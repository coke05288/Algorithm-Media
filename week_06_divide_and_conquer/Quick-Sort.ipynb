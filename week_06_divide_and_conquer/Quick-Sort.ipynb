{
 "cells": [
  {
   "cell_type": "markdown",
   "metadata": {},
   "source": [
    "### Quick Sort(빠른 정렬) \n",
    "\n",
    "- Quick Sort는 `partion`을 이용해 리스트를 반으로 분할하고, 이를 재귀적으로 반복한다.\n",
    "- Merge Sort와 비슷하나, `pivot`을 기준으로 작은 값은 왼쪽, 큰 값은 오른쪽으로 분할한다는 차이점이있다.\n"
   ]
  },
  {
   "cell_type": "code",
   "execution_count": 1,
   "metadata": {},
   "outputs": [],
   "source": [
    "#O(NlogN)\n",
    "\n",
    "def quicksort(low, high):\n",
    "    \n",
    "    if low < high:\n",
    "        pivotpoint = partition(low, high)\n",
    "        quicksort(low, pivotpoint-1)\n",
    "        quicksort(pivotpoint+1, high)\n",
    "\n",
    "def partition(low, high):\n",
    "    global S\n",
    "    \n",
    "    pivotitem = S[low]\n",
    "    j = low\n",
    "    \n",
    "    for i in range(low+1, high+1):\n",
    "        if S[i] < pivotitem:\n",
    "            j+=1\n",
    "            S[i], S[j] = S[j], S[i]\n",
    "    pivotpoint = j\n",
    "    S[pivotpoint], S[low] = S[low], S[pivotpoint]\n",
    "    return pivotpoint\n",
    "\n",
    "S = [15, 22, 13, 27, 12,10, 20, 25]\n",
    "\n",
    "quicksort(0, len(S)-1)\n",
    "print(S)"
   ]
  },
  {
   "cell_type": "markdown",
   "metadata": {},
   "source": [
    "### Merge Sort vs Quick Sort\n",
    "\n",
    "#### Merge Sort\n",
    "정렬할 배열을 정확히 반으로 나누면서, 정렬과 병합을 재귀적으로 반복하는 형식으로 정렬하는 방법.\n",
    "\n",
    "```c++\n",
    "void mergesort(S[], low, high){\n",
    "    if(low<high){\n",
    "        mid = (low + high)/2;\n",
    "        mergesort(S, low, mid-1);\n",
    "        mergesort(S, mid, high);\n",
    "        merge(A,low, mid, high);\n",
    "    }\n",
    "}\n",
    "\n",
    "```\n",
    "**point** : 병합하면서 정렬이 되는 것이 특징.\n",
    "\n",
    "\n",
    "#### Quick Sort\n",
    "정렬할 배열을 반으로 나누되, `pivot`을 기준으로 큰 값과 작은 값을 나눠서 정렬하는 방법.\n",
    "\n",
    "```c++\n",
    "void quicksort(S[], low, high){\n",
    "    if(low<high){\n",
    "        pivot = partition(S, low, high);\n",
    "        quicksort(S, low, mid-1);\n",
    "        quicksort(S, mid+1, high);\n",
    "    }\n",
    "}\n",
    "\n",
    "```\n",
    "**point** : 기준점(pivot)은 어떤 값으로 설정해도 상관없으며, 기준값을 중심으로, 앞은 작은 값, 뒤는 큰 값의 부분배열이 만들어짐.\n",
    "\n",
    "\n",
    "#### 성능\n",
    "- Quick Sort가 병합과정에서 유리하기 때문에 더 빠르다.\n",
    "- 원배열에서 부분배열로 나누기는 하나, 인덱스를 기준으로 접근하기 때문에 임시배열을 만들거나, 데이터를 재정렬할 필요가 없음."
   ]
  }
 ],
 "metadata": {
  "kernelspec": {
   "display_name": "Python 3",
   "language": "python",
   "name": "python3"
  },
  "language_info": {
   "codemirror_mode": {
    "name": "ipython",
    "version": 3
   },
   "file_extension": ".py",
   "mimetype": "text/x-python",
   "name": "python",
   "nbconvert_exporter": "python",
   "pygments_lexer": "ipython3",
   "version": "3.8.3"
  }
 },
 "nbformat": 4,
 "nbformat_minor": 4
}
