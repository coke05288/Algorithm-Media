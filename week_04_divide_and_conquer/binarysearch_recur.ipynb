{
 "cells": [
  {
   "cell_type": "markdown",
   "metadata": {},
   "source": [
    "**Divide and Conquer**\n",
    "\n",
    "그대로 해결할 수 없는 문제를 하위문제로 나눠 해결하는 방법.\n",
    "분할정복은 **하향식(Top-Down)** 문제풀이 방식이다.\n",
    "작동원리가 재귀함수와 일치하기 때문에 주로 **재귀를 활용**하여 푼다."
   ]
  },
  {
   "cell_type": "markdown",
   "metadata": {},
   "source": [
    "**Bindary Search**\n",
    "\n",
    "주어진 **미리 정렬 된(presorted)** 리스트에서 **값 x**의 인덱스를 찾는 함수 `binarySearch()`\n",
    "\n",
    "**Input** : n, array S indexed 1 to n, x\n",
    "\n",
    "**Output** : location of x in S (0 if x is not in S)"
   ]
  },
  {
   "cell_type": "code",
   "execution_count": 1,
   "metadata": {},
   "outputs": [
    {
     "name": "stdout",
     "output_type": "stream",
     "text": [
      "14\n",
      "3\n"
     ]
    }
   ],
   "source": [
    "# O(log N)\n",
    "def binarySearch(low, high):\n",
    "    mid_idx = 0\n",
    "    \n",
    "    if low > high:\n",
    "        return 0\n",
    "    else:\n",
    "        mid_idx = int((low+high)/2)\n",
    "    \n",
    "    if target == S[mid_idx]:\n",
    "        return mid_idx\n",
    "    elif target < S[mid_idx]:\n",
    "        return binarySearch(low, mid_idx - 1)\n",
    "    else:\n",
    "        return binarySearch(mid_idx + 1, high)\n",
    "\n",
    "S = [10, 12, 13, 14, 15, 20]\n",
    "length = len(S)\n",
    "target = int(input())\n",
    "\n",
    "print(binarySearch(0, length-1))"
   ]
  },
  {
   "cell_type": "code",
   "execution_count": 4,
   "metadata": {},
   "outputs": [
    {
     "name": "stdout",
     "output_type": "stream",
     "text": [
      "7\n"
     ]
    }
   ],
   "source": [
    "# 파이썬 bisect.bisect 메소드를 활용한 BinarySearch\n",
    "# bisect(data, target, low, high)\n",
    "import bisect\n",
    "S = [1, 2, 3, 3, 4, 7, 12, 24, 100]\n",
    "\n",
    "# bisect.bisect의 반환값은 index값이 아닌 insertion point(삽입 지점)을 반환\n",
    "print(bisect.bisect(S, 12))"
   ]
  },
  {
   "cell_type": "code",
   "execution_count": null,
   "metadata": {},
   "outputs": [],
   "source": []
  }
 ],
 "metadata": {
  "kernelspec": {
   "display_name": "Python 3",
   "language": "python",
   "name": "python3"
  },
  "language_info": {
   "codemirror_mode": {
    "name": "ipython",
    "version": 3
   },
   "file_extension": ".py",
   "mimetype": "text/x-python",
   "name": "python",
   "nbconvert_exporter": "python",
   "pygments_lexer": "ipython3",
   "version": "3.8.3"
  }
 },
 "nbformat": 4,
 "nbformat_minor": 4
}
