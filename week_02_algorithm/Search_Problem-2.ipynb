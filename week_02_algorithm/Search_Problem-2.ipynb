{
 "cells": [
  {
   "cell_type": "markdown",
   "metadata": {},
   "source": [
    "주어진 리스트에서 **값 x**의 인덱스를 찾는 함수 `seqsearch()`\n",
    "\n",
    "**Input** : n, array S indexed 1 to n, x\n",
    "\n",
    "**Output** : location of x in S (0 if x is not in S)"
   ]
  },
  {
   "cell_type": "code",
   "execution_count": 9,
   "metadata": {},
   "outputs": [
    {
     "name": "stdout",
     "output_type": "stream",
     "text": [
      "1\n"
     ]
    }
   ],
   "source": [
    "def seqsearch(n, S, x):\n",
    "    location = 1\n",
    "    # 주어진 n 까지 탐색 && location에 해당하는 S의 값이 x와 일치하지 않을 때 루프.\n",
    "    while(location <= n and S[location] != x):\n",
    "        location +=1\n",
    "        # 리스트 탐색을 모두 하고 일치하는 값이 없을 때, 0\n",
    "        if(location > n): location = 0\n",
    "    return location\n",
    "\n",
    "S = [None,1,2,3,4,5]\n",
    "print(seqsearch(5, S, 1))"
   ]
  }
 ],
 "metadata": {
  "kernelspec": {
   "display_name": "Python 3",
   "language": "python",
   "name": "python3"
  },
  "language_info": {
   "codemirror_mode": {
    "name": "ipython",
    "version": 3
   },
   "file_extension": ".py",
   "mimetype": "text/x-python",
   "name": "python",
   "nbconvert_exporter": "python",
   "pygments_lexer": "ipython3",
   "version": "3.8.3"
  }
 },
 "nbformat": 4,
 "nbformat_minor": 4
}
