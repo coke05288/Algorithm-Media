{
 "cells": [
  {
   "cell_type": "markdown",
   "metadata": {},
   "source": [
    "### 피보나치 수열(Fibonacci Sequence)\n",
    "\n",
    "\n",
    "**Problem** : 피보나치 수열에서 n번째 수를 구하시오.\n",
    "\n",
    "**Input** : 양수 n(0 포함)\n",
    "\n",
    "**Output** : 피보나치 수열에서 n번항."
   ]
  },
  {
   "cell_type": "code",
   "execution_count": 1,
   "metadata": {},
   "outputs": [
    {
     "name": "stdout",
     "output_type": "stream",
     "text": [
      "55\n"
     ]
    }
   ],
   "source": [
    "def fib(n):\n",
    "    \n",
    "    fibo = [None for i in range(n+1)]\n",
    "    fibo[0] = 0\n",
    "    \n",
    "    if n > 1:\n",
    "        fibo[1] = 1\n",
    "        for i in range(2, n+1):\n",
    "            fibo[i] = fibo[i - 1] + fibo[i - 2]\n",
    "    \n",
    "    \n",
    "    return fibo[n]\n",
    "    \n",
    "    \n",
    "print(fib(10))"
   ]
  }
 ],
 "metadata": {
  "kernelspec": {
   "display_name": "Python 3",
   "language": "python",
   "name": "python3"
  },
  "language_info": {
   "codemirror_mode": {
    "name": "ipython",
    "version": 3
   },
   "file_extension": ".py",
   "mimetype": "text/x-python",
   "name": "python",
   "nbconvert_exporter": "python",
   "pygments_lexer": "ipython3",
   "version": "3.8.3"
  }
 },
 "nbformat": 4,
 "nbformat_minor": 4
}
