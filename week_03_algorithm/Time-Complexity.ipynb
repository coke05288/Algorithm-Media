{
 "cells": [
  {
   "cell_type": "markdown",
   "metadata": {},
   "source": [
    "### 알고리즘 분석\n",
    "\n",
    "시간을 기준으로 알고리즘의 효율성을 분석할 때, CPU의 실제 작동시간을 측정하지 않는다.\n",
    "\n",
    "- 특정 컴퓨터에 따라서 다른 결과값이 나올 수 있기 때문에.\n",
    "- 프로그램을 작성하는 방식에 따라서 명령문의 개수가 달라질 수 있기 때문에.\n",
    "\n",
    "=> 알고리즘 효율성은, **단위연산(Basic Instruction)**의 수행 횟수를 **입력 크기(Input Size)**에 대한 함수로 구하여 분석한다.\n",
    "\n",
    "\n",
    "- 평균 시간복잡도(Everage-Case Time Complexity)\n",
    "- 최악 시간복잡도(Worst-Case Time Complexity)\n",
    "- 최선 시간복잡도(Best-Case Time Complexity)\n"
   ]
  }
 ],
 "metadata": {
  "kernelspec": {
   "display_name": "Python 3",
   "language": "python",
   "name": "python3"
  },
  "language_info": {
   "codemirror_mode": {
    "name": "ipython",
    "version": 3
   },
   "file_extension": ".py",
   "mimetype": "text/x-python",
   "name": "python",
   "nbconvert_exporter": "python",
   "pygments_lexer": "ipython3",
   "version": "3.8.3"
  }
 },
 "nbformat": 4,
 "nbformat_minor": 4
}
