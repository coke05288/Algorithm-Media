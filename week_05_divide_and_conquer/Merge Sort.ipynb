{
 "cells": [
  {
   "cell_type": "markdown",
   "metadata": {},
   "source": [
    "**Merge**\n",
    "\n",
    "정렬된 두개의 리스트를 합치는 함수 `merge()`\n",
    "\n",
    "**Input** : Two sorted lists U, V\n",
    "\n",
    "**Output** : Sorted list S containing the keys in U and V"
   ]
  },
  {
   "cell_type": "code",
   "execution_count": 7,
   "metadata": {},
   "outputs": [
    {
     "name": "stdout",
     "output_type": "stream",
     "text": [
      "[10, 12, 13, 15, 20, 22, 25]\n"
     ]
    }
   ],
   "source": [
    "def merge(h, m, U, V):\n",
    "    \n",
    "    S = []\n",
    "    i = 0\n",
    "    j = 0\n",
    "    k = 0\n",
    "    \n",
    "    while i < h and j < m:\n",
    "        if U[i] < V[j]:\n",
    "            S.append(U[i])\n",
    "            i+=1\n",
    "        else:\n",
    "            S.append(V[j])\n",
    "            j+=1\n",
    "        k+=1\n",
    "    \n",
    "    return S\n",
    "\n",
    "U = [10, 12, 20, 27]\n",
    "V = [13, 15, 22, 25]\n",
    "S = merge(len(U), len(V), U, V)\n",
    "print(S)"
   ]
  },
  {
   "cell_type": "code",
   "execution_count": null,
   "metadata": {},
   "outputs": [],
   "source": []
  }
 ],
 "metadata": {
  "kernelspec": {
   "display_name": "Python 3",
   "language": "python",
   "name": "python3"
  },
  "language_info": {
   "codemirror_mode": {
    "name": "ipython",
    "version": 3
   },
   "file_extension": ".py",
   "mimetype": "text/x-python",
   "name": "python",
   "nbconvert_exporter": "python",
   "pygments_lexer": "ipython3",
   "version": "3.8.3"
  }
 },
 "nbformat": 4,
 "nbformat_minor": 4
}
