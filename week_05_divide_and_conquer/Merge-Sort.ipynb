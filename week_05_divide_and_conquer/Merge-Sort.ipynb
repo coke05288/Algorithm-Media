{
 "cells": [
  {
   "cell_type": "markdown",
   "metadata": {},
   "source": [
    "### Merge\n",
    "\n",
    "정렬된 두개의 리스트를 합치는 함수 `merge()`\n",
    "\n",
    "**Input** : Two sorted lists U, V\n",
    "\n",
    "**Output** : Sorted list S containing the keys in U and V"
   ]
  },
  {
   "cell_type": "code",
   "execution_count": 1,
   "metadata": {},
   "outputs": [
    {
     "name": "stdout",
     "output_type": "stream",
     "text": [
      "[10, 12, 13, 15, 20, 22, 25]\n"
     ]
    }
   ],
   "source": [
    "def merge(h, m, U, V):\n",
    "    \n",
    "    S = []\n",
    "    i = 0\n",
    "    j = 0\n",
    "    k = 0\n",
    "    \n",
    "    while i < h and j < m:\n",
    "        if U[i] < V[j]:\n",
    "            S.append(U[i])\n",
    "            i+=1\n",
    "        else:\n",
    "            S.append(V[j])\n",
    "            j+=1\n",
    "        k+=1\n",
    "    \n",
    "    return S\n",
    "\n",
    "U = [10, 12, 20, 27]\n",
    "V = [13, 15, 22, 25]\n",
    "S = merge(len(U), len(V), U, V)\n",
    "print(S)"
   ]
  },
  {
   "cell_type": "markdown",
   "metadata": {},
   "source": [
    "### MergeSort\n",
    "\n",
    "n개의 원소를 가진 리스트 S를 오름차순으로 정렬하는 함수 `mergesort()`\n",
    "\n",
    "**Input** : n, list S\n",
    "\n",
    "**Output** : Sorted list S containing the keys in U and V"
   ]
  },
  {
   "cell_type": "code",
   "execution_count": 2,
   "metadata": {},
   "outputs": [
    {
     "name": "stdout",
     "output_type": "stream",
     "text": [
      "[10, 12, 13, 15, 20, 22, 25, 27]\n"
     ]
    }
   ],
   "source": [
    "def merge(U, V):\n",
    "    T = list()\n",
    "    i = 0\n",
    "    j = 0\n",
    "    \n",
    "    while i < len(U) and j < len(V):\n",
    "        if U[i] < V[j]:\n",
    "            T.append(U[i])\n",
    "            i+=1\n",
    "        else :\n",
    "            T.append(V[j])\n",
    "            j+=1\n",
    "    if i == len(U):\n",
    "        T = T + V[j:]\n",
    "    if j == len(V):\n",
    "        T = T + U[i:]\n",
    "    return T\n",
    "\n",
    "def merge_sort(S):\n",
    "    if len(S) <= 1 : return S\n",
    "    \n",
    "    mid_idx = len(S)//2\n",
    "    U = merge_sort(S[:mid_idx])\n",
    "    V = merge_sort(S[mid_idx:])\n",
    "    return merge(U, V)\n",
    "\n",
    "S = [27, 10, 12, 20, 25, 13, 15, 22]\n",
    "print(merge_sort(S))"
   ]
  },
  {
   "cell_type": "markdown",
   "metadata": {},
   "source": [
    "### 제자리 정렬\n",
    "\n",
    "- 입력을 저장하는데 필요한 장소 이외의 추가적인 저장장소를 사용하지 않는 정렬 알고리즘.\n",
    "- 위 MergeSort는 제자리 정렬 X \n",
    "- 입력 배열 S 이외에 U와 V를 추가적으로 사용했기 때문."
   ]
  },
  {
   "cell_type": "code",
   "execution_count": 3,
   "metadata": {},
   "outputs": [
    {
     "name": "stdout",
     "output_type": "stream",
     "text": [
      "[10, 12, 13, 15, 20, 22, 25, 27]\n"
     ]
    }
   ],
   "source": [
    "def merge2(low, mid, high):\n",
    "    global S\n",
    "    i = low\n",
    "    j = mid + 1\n",
    "    k = 0\n",
    "    U = []\n",
    "    while i <= mid and j <= high:\n",
    "        if S[i] < S[j]:\n",
    "            U.append(S[i])\n",
    "            i += 1\n",
    "        else:\n",
    "            U.append(S[j])\n",
    "            j += 1\n",
    "\n",
    "    if i > mid:\n",
    "        U = U + S[j:high+1]\n",
    "    else:\n",
    "        U = U + S[i:mid+1]\n",
    "    \n",
    "    for i in range(low, high+1):\n",
    "        S[i] = U[k]\n",
    "        k+=1\n",
    "            \n",
    "def mergesort2(low, high):    \n",
    "    if low < high :\n",
    "        mid = (low + high) // 2\n",
    "        mergesort2(low, mid)\n",
    "        mergesort2(mid + 1, high)\n",
    "        merge2(low, mid, high)\n",
    "\n",
    "\n",
    "S = [27, 10, 12, 20, 25, 13, 15, 22]\n",
    "mergesort2(0, len(S)-1)\n",
    "print(S)"
   ]
  }
 ],
 "metadata": {
  "kernelspec": {
   "display_name": "Python 3",
   "language": "python",
   "name": "python3"
  },
  "language_info": {
   "codemirror_mode": {
    "name": "ipython",
    "version": 3
   },
   "file_extension": ".py",
   "mimetype": "text/x-python",
   "name": "python",
   "nbconvert_exporter": "python",
   "pygments_lexer": "ipython3",
   "version": "3.8.3"
  }
 },
 "nbformat": 4,
 "nbformat_minor": 4
}
