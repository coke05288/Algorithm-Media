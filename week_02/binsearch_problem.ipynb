{
 "cells": [
  {
   "cell_type": "markdown",
   "metadata": {},
   "source": [
    "주어진 **정렬 된** 리스트에서 **값 x**의 인덱스를 찾는 함수 `binsearch()`\n",
    "\n",
    "**Input** : n, array S indexed 1 to n, x\n",
    "\n",
    "**Output** : location of x in S (0 if x is not in S)"
   ]
  },
  {
   "cell_type": "code",
   "execution_count": 6,
   "metadata": {},
   "outputs": [
    {
     "name": "stdout",
     "output_type": "stream",
     "text": [
      "3\n"
     ]
    }
   ],
   "source": [
    "# O(logN)\n",
    "def binsearch(n, S, x):\n",
    "    location = 0\n",
    "    low = 1\n",
    "    high = n\n",
    "    while location == 0 and low <= high :\n",
    "        mid = (high + low)//2\n",
    "        if S[mid] == x : location = mid\n",
    "        elif S[mid] > x : high = mid - 1\n",
    "        else : low = mid + 1\n",
    "    return location\n",
    "    \n",
    "    \n",
    "S = [None,1,2,3,4,5,6,7]\n",
    "print(binsearch(7, S, 3))"
   ]
  }
 ],
 "metadata": {
  "kernelspec": {
   "display_name": "Python 3",
   "language": "python",
   "name": "python3"
  },
  "language_info": {
   "codemirror_mode": {
    "name": "ipython",
    "version": 3
   },
   "file_extension": ".py",
   "mimetype": "text/x-python",
   "name": "python",
   "nbconvert_exporter": "python",
   "pygments_lexer": "ipython3",
   "version": "3.8.3"
  }
 },
 "nbformat": 4,
 "nbformat_minor": 4
}
