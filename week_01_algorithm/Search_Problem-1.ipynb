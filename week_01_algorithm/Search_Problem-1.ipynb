{
 "cells": [
  {
   "cell_type": "markdown",
   "metadata": {},
   "source": [
    "주어진 리스트에 **입력한 x값**의 유무를 찾는 함수 `search()`"
   ]
  },
  {
   "cell_type": "code",
   "execution_count": 11,
   "metadata": {},
   "outputs": [
    {
     "name": "stdout",
     "output_type": "stream",
     "text": [
      "10\n",
      "No\n"
     ]
    }
   ],
   "source": [
    "def search(x, S):\n",
    "    \n",
    "    answer = False\n",
    "    \n",
    "    for i in S:\n",
    "        if i == x:\n",
    "            answer = True\n",
    "            break\n",
    "            \n",
    "    return answer\n",
    "\n",
    "x = int(input())\n",
    "S = [1,2,3,4,5]\n",
    "\n",
    "check = search(x, list_num)\n",
    "\n",
    "if check == True : print(\"Yes\")\n",
    "else: print(\"No\")"
   ]
  }
 ],
 "metadata": {
  "kernelspec": {
   "display_name": "Python 3",
   "language": "python",
   "name": "python3"
  },
  "language_info": {
   "codemirror_mode": {
    "name": "ipython",
    "version": 3
   },
   "file_extension": ".py",
   "mimetype": "text/x-python",
   "name": "python",
   "nbconvert_exporter": "python",
   "pygments_lexer": "ipython3",
   "version": "3.8.3"
  }
 },
 "nbformat": 4,
 "nbformat_minor": 4
}
