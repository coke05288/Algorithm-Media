{
 "cells": [
  {
   "cell_type": "markdown",
   "metadata": {},
   "source": [
    "주어진 **정렬 된** 리스트에서 **값 x**의 인덱스를 찾는 함수 `indexSearch()`\n",
    "\n",
    "**Input** : n, array S indexed 1 to n, x\n",
    "\n",
    "**Output** : location of x in S (0 if x is not in S)"
   ]
  },
  {
   "cell_type": "code",
   "execution_count": 7,
   "metadata": {},
   "outputs": [
    {
     "name": "stdout",
     "output_type": "stream",
     "text": [
      "6\n",
      "20\n",
      "5\n"
     ]
    }
   ],
   "source": [
    "def indexSearch(low, high):\n",
    "    mid = 0\n",
    "    \n",
    "    if low > high:\n",
    "        return 0\n",
    "    else:\n",
    "        mid = int((low+high)/2)\n",
    "    \n",
    "    if x == S[mid]:\n",
    "        return mid\n",
    "    elif x < S[mid]:\n",
    "        return indexSearch(low, mid - 1)\n",
    "    else:\n",
    "        return indexSearch(mid + 1, high)\n",
    "\n",
    "S = [10, 12, 13, 14, 15, 20]\n",
    "n = int(input())\n",
    "x = int(input())\n",
    "print(indexSearch(0, n))"
   ]
  },
  {
   "cell_type": "code",
   "execution_count": null,
   "metadata": {},
   "outputs": [],
   "source": []
  }
 ],
 "metadata": {
  "kernelspec": {
   "display_name": "Python 3",
   "language": "python",
   "name": "python3"
  },
  "language_info": {
   "codemirror_mode": {
    "name": "ipython",
    "version": 3
   },
   "file_extension": ".py",
   "mimetype": "text/x-python",
   "name": "python",
   "nbconvert_exporter": "python",
   "pygments_lexer": "ipython3",
   "version": "3.8.3"
  }
 },
 "nbformat": 4,
 "nbformat_minor": 4
}
