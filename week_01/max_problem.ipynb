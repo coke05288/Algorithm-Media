{
 "metadata": {
  "language_info": {
   "codemirror_mode": {
    "name": "ipython",
    "version": 3
   },
   "file_extension": ".py",
   "mimetype": "text/x-python",
   "name": "python",
   "nbconvert_exporter": "python",
   "pygments_lexer": "ipython3",
   "version": 3
  },
  "orig_nbformat": 2
 },
 "nbformat": 4,
 "nbformat_minor": 2,
 "cells": [
  {
   "cell_type": "code",
   "execution_count": null,
   "metadata": {},
   "outputs": [],
   "source": [
    "def max(num_list):\n",
    "    max = num_list[0]\n",
    "    for i in num_list:\n",
    "        if max <= i:\n",
    "            max = i\n",
    "    return max\n",
    "\n",
    "\n",
    "num_list = [10, 7, 11, 5, 13, 8]\n",
    "\n",
    "print(max(num_list))"
   ]
  },
  {
   "cell_type": "code",
   "execution_count": null,
   "metadata": {},
   "outputs": [],
   "source": []
  }
 ]
}